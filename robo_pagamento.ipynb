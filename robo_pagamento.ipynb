{
 "cells": [
  {
   "cell_type": "markdown",
   "id": "6ec092f1",
   "metadata": {},
   "source": [
    "### Importando bibliotecas"
   ]
  },
  {
   "cell_type": "code",
   "execution_count": 58,
   "id": "9219a19c",
   "metadata": {},
   "outputs": [],
   "source": [
    "import pickle\n",
    "from funcoes import modelar_data\n",
    "from funcoes import tabela\n",
    "from funcoes_validacao import *\n",
    "import re"
   ]
  },
  {
   "cell_type": "markdown",
   "id": "2c7d7553",
   "metadata": {},
   "source": [
    "#### Funcoes"
   ]
  },
  {
   "cell_type": "code",
   "execution_count": 67,
   "id": "4affc2b3",
   "metadata": {},
   "outputs": [],
   "source": [
    "def valida_dados(string):\n",
    "    previsao = modelo.predict(modelar_data(tabela, string=string, maximos=maximos, minimos=minimos))\n",
    "    if previsao == 1:\n",
    "        return validar_chave_pix(string)\n",
    "    elif previsao == 2:\n",
    "        return email_valido(string)\n",
    "    elif previsao  in [3, 4]:\n",
    "        return cpf_valido(string)\n",
    "    elif previsao == 5:\n",
    "        return valid_number(string)\n",
    "    else:\n",
    "        return None"
   ]
  },
  {
   "cell_type": "markdown",
   "id": "e884ce18",
   "metadata": {},
   "source": [
    "### Carregando modelo"
   ]
  },
  {
   "cell_type": "code",
   "execution_count": 2,
   "id": "52b5434f",
   "metadata": {},
   "outputs": [],
   "source": [
    "with open('modelo/modelo.pkl', 'rb') as arquivo:\n",
    "    modelo = pickle.load(arquivo)"
   ]
  },
  {
   "cell_type": "code",
   "execution_count": 3,
   "id": "4b222bd0",
   "metadata": {},
   "outputs": [],
   "source": [
    "with open('modelo/maximos.pkl', 'rb') as arquivo:\n",
    "    maximos = pickle.load(arquivo)"
   ]
  },
  {
   "cell_type": "code",
   "execution_count": 4,
   "id": "6facdef7",
   "metadata": {},
   "outputs": [],
   "source": [
    "with open('modelo/minimos.pkl', 'rb') as arquivo:\n",
    "    minimos = pickle.load(arquivo)"
   ]
  },
  {
   "cell_type": "code",
   "execution_count": 69,
   "id": "2aa16430",
   "metadata": {},
   "outputs": [
    {
     "name": "stdout",
     "output_type": "stream",
     "text": [
      "entrada: 01132533980\n",
      "False\n"
     ]
    }
   ],
   "source": [
    "string = input('entrada: ')\n",
    "valida_dados(string)\n",
    "print(valida_dados(string))"
   ]
  }
 ],
 "metadata": {
  "kernelspec": {
   "display_name": "Python 3 (ipykernel)",
   "language": "python",
   "name": "python3"
  },
  "language_info": {
   "codemirror_mode": {
    "name": "ipython",
    "version": 3
   },
   "file_extension": ".py",
   "mimetype": "text/x-python",
   "name": "python",
   "nbconvert_exporter": "python",
   "pygments_lexer": "ipython3",
   "version": "3.9.13"
  }
 },
 "nbformat": 4,
 "nbformat_minor": 5
}
