{
 "cells": [
  {
   "cell_type": "markdown",
   "id": "6ec092f1",
   "metadata": {},
   "source": [
    "### Importando bibliotecas"
   ]
  },
  {
   "cell_type": "code",
   "execution_count": 7,
   "id": "9219a19c",
   "metadata": {},
   "outputs": [],
   "source": [
    "import pickle\n",
    "from funcoes import modelar_data\n",
    "from funcoes import tabela"
   ]
  },
  {
   "cell_type": "markdown",
   "id": "e884ce18",
   "metadata": {},
   "source": [
    "### Carregando modelo"
   ]
  },
  {
   "cell_type": "code",
   "execution_count": 3,
   "id": "52b5434f",
   "metadata": {},
   "outputs": [],
   "source": [
    "with open('modelo/modelo.pkl', 'rb') as arquivo:\n",
    "    modelo = pickle.load(arquivo)"
   ]
  },
  {
   "cell_type": "code",
   "execution_count": 9,
   "id": "4b222bd0",
   "metadata": {},
   "outputs": [],
   "source": [
    "with open('modelo/maximos.pkl', 'rb') as arquivo:\n",
    "    maximos = pickle.load(arquivo)"
   ]
  },
  {
   "cell_type": "code",
   "execution_count": 8,
   "id": "6facdef7",
   "metadata": {},
   "outputs": [],
   "source": [
    "with open('modelo/minimos.pkl', 'rb') as arquivo:\n",
    "    minimos = pickle.load(arquivo)"
   ]
  },
  {
   "cell_type": "code",
   "execution_count": 20,
   "id": "2aa16430",
   "metadata": {},
   "outputs": [
    {
     "name": "stdout",
     "output_type": "stream",
     "text": [
      "entrada: albertodasilvamercado\n"
     ]
    },
    {
     "data": {
      "text/plain": [
       "array([6], dtype=int64)"
      ]
     },
     "execution_count": 20,
     "metadata": {},
     "output_type": "execute_result"
    }
   ],
   "source": [
    "string = input('entrada: ')\n",
    "modelo.predict(modelar_data(tabela, string=string, maximos=maximos, minimos=minimos))"
   ]
  }
 ],
 "metadata": {
  "kernelspec": {
   "display_name": "Python 3 (ipykernel)",
   "language": "python",
   "name": "python3"
  },
  "language_info": {
   "codemirror_mode": {
    "name": "ipython",
    "version": 3
   },
   "file_extension": ".py",
   "mimetype": "text/x-python",
   "name": "python",
   "nbconvert_exporter": "python",
   "pygments_lexer": "ipython3",
   "version": "3.9.13"
  }
 },
 "nbformat": 4,
 "nbformat_minor": 5
}
