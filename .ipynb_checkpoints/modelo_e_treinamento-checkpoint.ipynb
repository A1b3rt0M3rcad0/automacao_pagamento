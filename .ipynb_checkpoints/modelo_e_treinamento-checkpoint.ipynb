{
 "cells": [
  {
   "cell_type": "code",
   "execution_count": 1,
   "id": "ce6db1d4",
   "metadata": {},
   "outputs": [],
   "source": [
    "import pandas as pd\n",
    "from decimal import Decimal\n",
    "from sklearn.ensemble import RandomForestClassifier\n",
    "from sklearn.model_selection import train_test_split\n",
    "from sklearn.metrics import accuracy_score\n",
    "import numpy as np"
   ]
  },
  {
   "cell_type": "code",
   "execution_count": 2,
   "id": "c40a6124",
   "metadata": {},
   "outputs": [],
   "source": [
    "np.random.seed(50)"
   ]
  },
  {
   "cell_type": "code",
   "execution_count": 3,
   "id": "32bb2712",
   "metadata": {},
   "outputs": [],
   "source": [
    "df = pd.read_csv('DATASET/dados.csv')"
   ]
  },
  {
   "cell_type": "code",
   "execution_count": 4,
   "id": "6daaf975",
   "metadata": {},
   "outputs": [],
   "source": [
    "modelo = RandomForestClassifier()"
   ]
  },
  {
   "cell_type": "code",
   "execution_count": 5,
   "id": "64a05aad",
   "metadata": {},
   "outputs": [
    {
     "data": {
      "text/html": [
       "<div>\n",
       "<style scoped>\n",
       "    .dataframe tbody tr th:only-of-type {\n",
       "        vertical-align: middle;\n",
       "    }\n",
       "\n",
       "    .dataframe tbody tr th {\n",
       "        vertical-align: top;\n",
       "    }\n",
       "\n",
       "    .dataframe thead th {\n",
       "        text-align: right;\n",
       "    }\n",
       "</style>\n",
       "<table border=\"1\" class=\"dataframe\">\n",
       "  <thead>\n",
       "    <tr style=\"text-align: right;\">\n",
       "      <th></th>\n",
       "      <th>dados</th>\n",
       "      <th>tipos</th>\n",
       "    </tr>\n",
       "  </thead>\n",
       "  <tbody>\n",
       "    <tr>\n",
       "      <th>0</th>\n",
       "      <td>0c4c8258-8217-120d-df69-99c495d70e97</td>\n",
       "      <td>pix</td>\n",
       "    </tr>\n",
       "    <tr>\n",
       "      <th>1</th>\n",
       "      <td>uq9dcmdqw74@zoho.com</td>\n",
       "      <td>email</td>\n",
       "    </tr>\n",
       "    <tr>\n",
       "      <th>2</th>\n",
       "      <td>73141152810</td>\n",
       "      <td>cpf_sem_pontuacao</td>\n",
       "    </tr>\n",
       "    <tr>\n",
       "      <th>3</th>\n",
       "      <td>132.412.737-68</td>\n",
       "      <td>cpf_com_pontuacao</td>\n",
       "    </tr>\n",
       "    <tr>\n",
       "      <th>4</th>\n",
       "      <td>47901638453</td>\n",
       "      <td>numero_celular</td>\n",
       "    </tr>\n",
       "  </tbody>\n",
       "</table>\n",
       "</div>"
      ],
      "text/plain": [
       "                                  dados              tipos\n",
       "0  0c4c8258-8217-120d-df69-99c495d70e97                pix\n",
       "1                  uq9dcmdqw74@zoho.com              email\n",
       "2                           73141152810  cpf_sem_pontuacao\n",
       "3                        132.412.737-68  cpf_com_pontuacao\n",
       "4                           47901638453     numero_celular"
      ]
     },
     "execution_count": 5,
     "metadata": {},
     "output_type": "execute_result"
    }
   ],
   "source": [
    "df.head()"
   ]
  },
  {
   "cell_type": "code",
   "execution_count": 6,
   "id": "d2ca8f3e",
   "metadata": {},
   "outputs": [],
   "source": [
    "mapa = {'pix': 1, 'email': 2, 'cpf_sem_pontuacao': 3, \n",
    "       'cpf_com_pontuacao': 4, 'numero_celular': 5, 'none': 6}"
   ]
  },
  {
   "cell_type": "code",
   "execution_count": 7,
   "id": "9775c676",
   "metadata": {},
   "outputs": [],
   "source": [
    "df['tipos'] = df['tipos'].map(mapa)"
   ]
  },
  {
   "cell_type": "code",
   "execution_count": 8,
   "id": "aa3e7c41",
   "metadata": {},
   "outputs": [
    {
     "data": {
      "text/html": [
       "<div>\n",
       "<style scoped>\n",
       "    .dataframe tbody tr th:only-of-type {\n",
       "        vertical-align: middle;\n",
       "    }\n",
       "\n",
       "    .dataframe tbody tr th {\n",
       "        vertical-align: top;\n",
       "    }\n",
       "\n",
       "    .dataframe thead th {\n",
       "        text-align: right;\n",
       "    }\n",
       "</style>\n",
       "<table border=\"1\" class=\"dataframe\">\n",
       "  <thead>\n",
       "    <tr style=\"text-align: right;\">\n",
       "      <th></th>\n",
       "      <th>dados</th>\n",
       "      <th>tipos</th>\n",
       "    </tr>\n",
       "  </thead>\n",
       "  <tbody>\n",
       "    <tr>\n",
       "      <th>0</th>\n",
       "      <td>0c4c8258-8217-120d-df69-99c495d70e97</td>\n",
       "      <td>1</td>\n",
       "    </tr>\n",
       "    <tr>\n",
       "      <th>1</th>\n",
       "      <td>uq9dcmdqw74@zoho.com</td>\n",
       "      <td>2</td>\n",
       "    </tr>\n",
       "    <tr>\n",
       "      <th>2</th>\n",
       "      <td>73141152810</td>\n",
       "      <td>3</td>\n",
       "    </tr>\n",
       "    <tr>\n",
       "      <th>3</th>\n",
       "      <td>132.412.737-68</td>\n",
       "      <td>4</td>\n",
       "    </tr>\n",
       "    <tr>\n",
       "      <th>4</th>\n",
       "      <td>47901638453</td>\n",
       "      <td>5</td>\n",
       "    </tr>\n",
       "    <tr>\n",
       "      <th>5</th>\n",
       "      <td>i.d4b)xnddjv@lgc2m7.aplv.(g)</td>\n",
       "      <td>6</td>\n",
       "    </tr>\n",
       "    <tr>\n",
       "      <th>6</th>\n",
       "      <td>0752a187-45df-2881-acdf-2bf7fc73d7b2</td>\n",
       "      <td>1</td>\n",
       "    </tr>\n",
       "    <tr>\n",
       "      <th>7</th>\n",
       "      <td>684qll9dq_w@hotmail.com</td>\n",
       "      <td>2</td>\n",
       "    </tr>\n",
       "    <tr>\n",
       "      <th>8</th>\n",
       "      <td>01553262018</td>\n",
       "      <td>3</td>\n",
       "    </tr>\n",
       "    <tr>\n",
       "      <th>9</th>\n",
       "      <td>324.044.099-72</td>\n",
       "      <td>4</td>\n",
       "    </tr>\n",
       "  </tbody>\n",
       "</table>\n",
       "</div>"
      ],
      "text/plain": [
       "                                  dados  tipos\n",
       "0  0c4c8258-8217-120d-df69-99c495d70e97      1\n",
       "1                  uq9dcmdqw74@zoho.com      2\n",
       "2                           73141152810      3\n",
       "3                        132.412.737-68      4\n",
       "4                           47901638453      5\n",
       "5          i.d4b)xnddjv@lgc2m7.aplv.(g)      6\n",
       "6  0752a187-45df-2881-acdf-2bf7fc73d7b2      1\n",
       "7               684qll9dq_w@hotmail.com      2\n",
       "8                           01553262018      3\n",
       "9                        324.044.099-72      4"
      ]
     },
     "execution_count": 8,
     "metadata": {},
     "output_type": "execute_result"
    }
   ],
   "source": [
    "df.head(10)"
   ]
  },
  {
   "cell_type": "markdown",
   "id": "eabecf3e",
   "metadata": {},
   "source": [
    "## Modelando os dados"
   ]
  },
  {
   "cell_type": "markdown",
   "id": "f6999c91",
   "metadata": {},
   "source": [
    "#### Dicionario de troca"
   ]
  },
  {
   "cell_type": "code",
   "execution_count": 9,
   "id": "2de1befd",
   "metadata": {},
   "outputs": [],
   "source": [
    "letras = list('abcdefghijklmnopqrstuvxwyz')\n",
    "numeros = list('0123456789')\n",
    "especial = list('.-_@()')\n",
    "numeros_repre = list(map(str, range(1, 1 + len(numeros))))\n",
    "letras_repre = list(map(str, range(11, 11 + len(letras))))\n",
    "especial_repre = ['111', '222', '333', '444', '555', '666']\n",
    "\n",
    "dicionario = dict(zip(letras, letras_repre))\n",
    "dicionario.update(zip(numeros, numeros_repre))\n",
    "dicionario.update(zip(especial, especial_repre))"
   ]
  },
  {
   "cell_type": "markdown",
   "id": "719f200d",
   "metadata": {},
   "source": [
    "# Modelando Dados"
   ]
  },
  {
   "cell_type": "code",
   "execution_count": 10,
   "id": "667ef4b0",
   "metadata": {},
   "outputs": [],
   "source": [
    "## tabela de troca\n",
    "tabela = str.maketrans(dicionario)"
   ]
  },
  {
   "cell_type": "code",
   "execution_count": 11,
   "id": "a081d063",
   "metadata": {},
   "outputs": [],
   "source": [
    "## Colunas de tradução dos dados\n",
    "df['dados_trans'] = df['dados'].map(lambda x: float(x.translate(tabela)))"
   ]
  },
  {
   "cell_type": "code",
   "execution_count": 12,
   "id": "96b40b7a",
   "metadata": {},
   "outputs": [],
   "source": [
    "## Colunas das iniciais traduzidas\n",
    "df['iniciais'] = df['dados'].map(lambda x: x[0:4])\n",
    "df['iniciais'] = df['iniciais'].map(lambda x: float(x.translate(tabela)))"
   ]
  },
  {
   "cell_type": "code",
   "execution_count": 13,
   "id": "c06b7810",
   "metadata": {},
   "outputs": [],
   "source": [
    "## colunas dos finais traduzidor\n",
    "df['finais'] = df['dados'].map(lambda x: x[-3:])\n",
    "df['finais'] = df['finais'].map(lambda x: float(x.translate(tabela)))"
   ]
  },
  {
   "cell_type": "code",
   "execution_count": 14,
   "id": "e7b549c4",
   "metadata": {},
   "outputs": [],
   "source": [
    "## coluna dos dois primeiros\n",
    "df['2_primeiros'] = df['dados'].map(lambda x: x[0:2])\n",
    "df['2_primeiros'] = df['2_primeiros'].map(lambda x: float(x.translate(tabela)))"
   ]
  },
  {
   "cell_type": "code",
   "execution_count": 15,
   "id": "87c53e4a",
   "metadata": {},
   "outputs": [],
   "source": [
    "## coluna tamanho\n",
    "df['tamanho'] = df['dados'].map(lambda x: len(x))"
   ]
  },
  {
   "cell_type": "markdown",
   "id": "c295dcf4",
   "metadata": {},
   "source": [
    "#### Visualizando dados"
   ]
  },
  {
   "cell_type": "code",
   "execution_count": 16,
   "id": "4454aecc",
   "metadata": {},
   "outputs": [
    {
     "data": {
      "text/html": [
       "<div>\n",
       "<style scoped>\n",
       "    .dataframe tbody tr th:only-of-type {\n",
       "        vertical-align: middle;\n",
       "    }\n",
       "\n",
       "    .dataframe tbody tr th {\n",
       "        vertical-align: top;\n",
       "    }\n",
       "\n",
       "    .dataframe thead th {\n",
       "        text-align: right;\n",
       "    }\n",
       "</style>\n",
       "<table border=\"1\" class=\"dataframe\">\n",
       "  <thead>\n",
       "    <tr style=\"text-align: right;\">\n",
       "      <th></th>\n",
       "      <th>dados</th>\n",
       "      <th>tipos</th>\n",
       "      <th>dados_trans</th>\n",
       "      <th>iniciais</th>\n",
       "      <th>finais</th>\n",
       "      <th>2_primeiros</th>\n",
       "      <th>tamanho</th>\n",
       "    </tr>\n",
       "  </thead>\n",
       "  <tbody>\n",
       "    <tr>\n",
       "      <th>0</th>\n",
       "      <td>0c4c8258-8217-120d-df69-99c495d70e97</td>\n",
       "      <td>1</td>\n",
       "      <td>1.135139e+56</td>\n",
       "      <td>113513.0</td>\n",
       "      <td>15108.0</td>\n",
       "      <td>113.0</td>\n",
       "      <td>36</td>\n",
       "    </tr>\n",
       "    <tr>\n",
       "      <th>1</th>\n",
       "      <td>uq9dcmdqw74@zoho.com</td>\n",
       "      <td>2</td>\n",
       "      <td>3.127101e+39</td>\n",
       "      <td>31271014.0</td>\n",
       "      <td>132523.0</td>\n",
       "      <td>3127.0</td>\n",
       "      <td>20</td>\n",
       "    </tr>\n",
       "    <tr>\n",
       "      <th>2</th>\n",
       "      <td>73141152810</td>\n",
       "      <td>3</td>\n",
       "      <td>8.425226e+10</td>\n",
       "      <td>8425.0</td>\n",
       "      <td>921.0</td>\n",
       "      <td>84.0</td>\n",
       "      <td>11</td>\n",
       "    </tr>\n",
       "    <tr>\n",
       "      <th>3</th>\n",
       "      <td>132.412.737-68</td>\n",
       "      <td>4</td>\n",
       "      <td>2.431115e+19</td>\n",
       "      <td>243111.0</td>\n",
       "      <td>22279.0</td>\n",
       "      <td>24.0</td>\n",
       "      <td>14</td>\n",
       "    </tr>\n",
       "    <tr>\n",
       "      <th>4</th>\n",
       "      <td>47901638453</td>\n",
       "      <td>5</td>\n",
       "      <td>5.810127e+11</td>\n",
       "      <td>58101.0</td>\n",
       "      <td>564.0</td>\n",
       "      <td>58.0</td>\n",
       "      <td>11</td>\n",
       "    </tr>\n",
       "    <tr>\n",
       "      <th>5</th>\n",
       "      <td>i.d4b)xnddjv@lgc2m7.aplv.(g)</td>\n",
       "      <td>6</td>\n",
       "      <td>1.911115e+59</td>\n",
       "      <td>19111145.0</td>\n",
       "      <td>55517666.0</td>\n",
       "      <td>19111.0</td>\n",
       "      <td>28</td>\n",
       "    </tr>\n",
       "    <tr>\n",
       "      <th>6</th>\n",
       "      <td>0752a187-45df-2881-acdf-2bf7fc73d7b2</td>\n",
       "      <td>1</td>\n",
       "      <td>1.863113e+56</td>\n",
       "      <td>1863.0</td>\n",
       "      <td>8123.0</td>\n",
       "      <td>18.0</td>\n",
       "      <td>36</td>\n",
       "    </tr>\n",
       "    <tr>\n",
       "      <th>7</th>\n",
       "      <td>684qll9dq_w@hotmail.com</td>\n",
       "      <td>2</td>\n",
       "      <td>7.952722e+45</td>\n",
       "      <td>79527.0</td>\n",
       "      <td>132523.0</td>\n",
       "      <td>79.0</td>\n",
       "      <td>23</td>\n",
       "    </tr>\n",
       "    <tr>\n",
       "      <th>8</th>\n",
       "      <td>01553262018</td>\n",
       "      <td>3</td>\n",
       "      <td>1.266437e+10</td>\n",
       "      <td>1266.0</td>\n",
       "      <td>129.0</td>\n",
       "      <td>12.0</td>\n",
       "      <td>11</td>\n",
       "    </tr>\n",
       "    <tr>\n",
       "      <th>9</th>\n",
       "      <td>324.044.099-72</td>\n",
       "      <td>4</td>\n",
       "      <td>4.351112e+21</td>\n",
       "      <td>435111.0</td>\n",
       "      <td>22283.0</td>\n",
       "      <td>43.0</td>\n",
       "      <td>14</td>\n",
       "    </tr>\n",
       "    <tr>\n",
       "      <th>10</th>\n",
       "      <td>47928669468</td>\n",
       "      <td>5</td>\n",
       "      <td>5.810398e+12</td>\n",
       "      <td>58103.0</td>\n",
       "      <td>579.0</td>\n",
       "      <td>58.0</td>\n",
       "      <td>11</td>\n",
       "    </tr>\n",
       "    <tr>\n",
       "      <th>11</th>\n",
       "      <td>kdkfii4ir50jp9)1rz2</td>\n",
       "      <td>6</td>\n",
       "      <td>2.114212e+33</td>\n",
       "      <td>21142116.0</td>\n",
       "      <td>28363.0</td>\n",
       "      <td>2114.0</td>\n",
       "      <td>19</td>\n",
       "    </tr>\n",
       "    <tr>\n",
       "      <th>12</th>\n",
       "      <td>6fcb6b7f-cf6f-10c4-9414-39101b5a131a</td>\n",
       "      <td>1</td>\n",
       "      <td>7.161313e+57</td>\n",
       "      <td>7161312.0</td>\n",
       "      <td>4211.0</td>\n",
       "      <td>716.0</td>\n",
       "      <td>36</td>\n",
       "    </tr>\n",
       "    <tr>\n",
       "      <th>13</th>\n",
       "      <td>0o4.6um3bn3@live.com</td>\n",
       "      <td>2</td>\n",
       "      <td>1.255112e+37</td>\n",
       "      <td>1255111.0</td>\n",
       "      <td>132523.0</td>\n",
       "      <td>125.0</td>\n",
       "      <td>20</td>\n",
       "    </tr>\n",
       "    <tr>\n",
       "      <th>14</th>\n",
       "      <td>63034647506</td>\n",
       "      <td>3</td>\n",
       "      <td>7.414576e+10</td>\n",
       "      <td>7414.0</td>\n",
       "      <td>617.0</td>\n",
       "      <td>74.0</td>\n",
       "      <td>11</td>\n",
       "    </tr>\n",
       "    <tr>\n",
       "      <th>15</th>\n",
       "      <td>071.479.393-01</td>\n",
       "      <td>4</td>\n",
       "      <td>1.821116e+21</td>\n",
       "      <td>182111.0</td>\n",
       "      <td>22212.0</td>\n",
       "      <td>18.0</td>\n",
       "      <td>14</td>\n",
       "    </tr>\n",
       "    <tr>\n",
       "      <th>16</th>\n",
       "      <td>86911863508</td>\n",
       "      <td>5</td>\n",
       "      <td>9.710230e+11</td>\n",
       "      <td>97102.0</td>\n",
       "      <td>619.0</td>\n",
       "      <td>97.0</td>\n",
       "      <td>11</td>\n",
       "    </tr>\n",
       "    <tr>\n",
       "      <th>17</th>\n",
       "      <td>ng2@j1c001c6rq.r6ot2209(fc5to4xq7o6l</td>\n",
       "      <td>6</td>\n",
       "      <td>2.417344e+60</td>\n",
       "      <td>24173444.0</td>\n",
       "      <td>25722.0</td>\n",
       "      <td>2417.0</td>\n",
       "      <td>36</td>\n",
       "    </tr>\n",
       "    <tr>\n",
       "      <th>18</th>\n",
       "      <td>4d373fc7-5ec9-370e-e132-d374adf89d3a</td>\n",
       "      <td>1</td>\n",
       "      <td>5.144842e+58</td>\n",
       "      <td>51448.0</td>\n",
       "      <td>14411.0</td>\n",
       "      <td>514.0</td>\n",
       "      <td>36</td>\n",
       "    </tr>\n",
       "    <tr>\n",
       "      <th>19</th>\n",
       "      <td>k206z56l99ow2_@zoho.com</td>\n",
       "      <td>2</td>\n",
       "      <td>2.131737e+42</td>\n",
       "      <td>21317.0</td>\n",
       "      <td>132523.0</td>\n",
       "      <td>213.0</td>\n",
       "      <td>23</td>\n",
       "    </tr>\n",
       "  </tbody>\n",
       "</table>\n",
       "</div>"
      ],
      "text/plain": [
       "                                   dados  tipos   dados_trans    iniciais  \\\n",
       "0   0c4c8258-8217-120d-df69-99c495d70e97      1  1.135139e+56    113513.0   \n",
       "1                   uq9dcmdqw74@zoho.com      2  3.127101e+39  31271014.0   \n",
       "2                            73141152810      3  8.425226e+10      8425.0   \n",
       "3                         132.412.737-68      4  2.431115e+19    243111.0   \n",
       "4                            47901638453      5  5.810127e+11     58101.0   \n",
       "5           i.d4b)xnddjv@lgc2m7.aplv.(g)      6  1.911115e+59  19111145.0   \n",
       "6   0752a187-45df-2881-acdf-2bf7fc73d7b2      1  1.863113e+56      1863.0   \n",
       "7                684qll9dq_w@hotmail.com      2  7.952722e+45     79527.0   \n",
       "8                            01553262018      3  1.266437e+10      1266.0   \n",
       "9                         324.044.099-72      4  4.351112e+21    435111.0   \n",
       "10                           47928669468      5  5.810398e+12     58103.0   \n",
       "11                   kdkfii4ir50jp9)1rz2      6  2.114212e+33  21142116.0   \n",
       "12  6fcb6b7f-cf6f-10c4-9414-39101b5a131a      1  7.161313e+57   7161312.0   \n",
       "13                  0o4.6um3bn3@live.com      2  1.255112e+37   1255111.0   \n",
       "14                           63034647506      3  7.414576e+10      7414.0   \n",
       "15                        071.479.393-01      4  1.821116e+21    182111.0   \n",
       "16                           86911863508      5  9.710230e+11     97102.0   \n",
       "17  ng2@j1c001c6rq.r6ot2209(fc5to4xq7o6l      6  2.417344e+60  24173444.0   \n",
       "18  4d373fc7-5ec9-370e-e132-d374adf89d3a      1  5.144842e+58     51448.0   \n",
       "19               k206z56l99ow2_@zoho.com      2  2.131737e+42     21317.0   \n",
       "\n",
       "        finais  2_primeiros  tamanho  \n",
       "0      15108.0        113.0       36  \n",
       "1     132523.0       3127.0       20  \n",
       "2        921.0         84.0       11  \n",
       "3      22279.0         24.0       14  \n",
       "4        564.0         58.0       11  \n",
       "5   55517666.0      19111.0       28  \n",
       "6       8123.0         18.0       36  \n",
       "7     132523.0         79.0       23  \n",
       "8        129.0         12.0       11  \n",
       "9      22283.0         43.0       14  \n",
       "10       579.0         58.0       11  \n",
       "11     28363.0       2114.0       19  \n",
       "12      4211.0        716.0       36  \n",
       "13    132523.0        125.0       20  \n",
       "14       617.0         74.0       11  \n",
       "15     22212.0         18.0       14  \n",
       "16       619.0         97.0       11  \n",
       "17     25722.0       2417.0       36  \n",
       "18     14411.0        514.0       36  \n",
       "19    132523.0        213.0       23  "
      ]
     },
     "execution_count": 16,
     "metadata": {},
     "output_type": "execute_result"
    }
   ],
   "source": [
    "df.head(20)"
   ]
  },
  {
   "cell_type": "markdown",
   "id": "491e22cb",
   "metadata": {},
   "source": [
    "#### Normalizando dados"
   ]
  },
  {
   "cell_type": "code",
   "execution_count": 17,
   "id": "ca7416a7",
   "metadata": {},
   "outputs": [],
   "source": [
    "df_normalizado = df.copy()"
   ]
  },
  {
   "cell_type": "code",
   "execution_count": 18,
   "id": "267c4d06",
   "metadata": {},
   "outputs": [],
   "source": [
    "colunas = df_normalizado.drop(columns=['dados', 'tipos']).columns"
   ]
  },
  {
   "cell_type": "code",
   "execution_count": 19,
   "id": "379d2775",
   "metadata": {},
   "outputs": [],
   "source": [
    "maximos = {}\n",
    "minimos = {}\n",
    "for coluna in colunas:\n",
    "    maxi = {coluna: df_normalizado[coluna].max()}\n",
    "    mini = {coluna: df_normalizado[coluna].min()}\n",
    "    maximos.update(maxi)\n",
    "    minimos.update(mini)"
   ]
  },
  {
   "cell_type": "code",
   "execution_count": 20,
   "id": "4edad77f",
   "metadata": {},
   "outputs": [],
   "source": [
    "for coluna in colunas:\n",
    "    df_normalizado[coluna] = df_normalizado[coluna].apply(lambda x: (x - minimos[coluna]) / (maximos[coluna] - minimos[coluna]))"
   ]
  },
  {
   "cell_type": "code",
   "execution_count": 21,
   "id": "3931cad7",
   "metadata": {},
   "outputs": [
    {
     "data": {
      "text/html": [
       "<div>\n",
       "<style scoped>\n",
       "    .dataframe tbody tr th:only-of-type {\n",
       "        vertical-align: middle;\n",
       "    }\n",
       "\n",
       "    .dataframe tbody tr th {\n",
       "        vertical-align: top;\n",
       "    }\n",
       "\n",
       "    .dataframe thead th {\n",
       "        text-align: right;\n",
       "    }\n",
       "</style>\n",
       "<table border=\"1\" class=\"dataframe\">\n",
       "  <thead>\n",
       "    <tr style=\"text-align: right;\">\n",
       "      <th></th>\n",
       "      <th>dados</th>\n",
       "      <th>tipos</th>\n",
       "      <th>dados_trans</th>\n",
       "      <th>iniciais</th>\n",
       "      <th>finais</th>\n",
       "      <th>2_primeiros</th>\n",
       "      <th>tamanho</th>\n",
       "    </tr>\n",
       "  </thead>\n",
       "  <tbody>\n",
       "    <tr>\n",
       "      <th>0</th>\n",
       "      <td>0c4c8258-8217-120d-df69-99c495d70e97</td>\n",
       "      <td>1</td>\n",
       "      <td>1.702994e-24</td>\n",
       "      <td>1.702681e-07</td>\n",
       "      <td>2.266051e-05</td>\n",
       "      <td>0.000168</td>\n",
       "      <td>1.000000</td>\n",
       "    </tr>\n",
       "    <tr>\n",
       "      <th>1</th>\n",
       "      <td>uq9dcmdqw74@zoho.com</td>\n",
       "      <td>2</td>\n",
       "      <td>4.691437e-41</td>\n",
       "      <td>4.690654e-05</td>\n",
       "      <td>1.987831e-04</td>\n",
       "      <td>0.004689</td>\n",
       "      <td>0.542857</td>\n",
       "    </tr>\n",
       "    <tr>\n",
       "      <th>2</th>\n",
       "      <td>73141152810</td>\n",
       "      <td>3</td>\n",
       "      <td>1.263995e-69</td>\n",
       "      <td>1.263600e-08</td>\n",
       "      <td>1.380000e-06</td>\n",
       "      <td>0.000125</td>\n",
       "      <td>0.285714</td>\n",
       "    </tr>\n",
       "    <tr>\n",
       "      <th>3</th>\n",
       "      <td>132.412.737-68</td>\n",
       "      <td>4</td>\n",
       "      <td>3.647283e-61</td>\n",
       "      <td>3.646651e-07</td>\n",
       "      <td>3.341701e-05</td>\n",
       "      <td>0.000035</td>\n",
       "      <td>0.371429</td>\n",
       "    </tr>\n",
       "    <tr>\n",
       "      <th>4</th>\n",
       "      <td>47901638453</td>\n",
       "      <td>5</td>\n",
       "      <td>8.716650e-69</td>\n",
       "      <td>8.715003e-08</td>\n",
       "      <td>8.445003e-07</td>\n",
       "      <td>0.000086</td>\n",
       "      <td>0.285714</td>\n",
       "    </tr>\n",
       "    <tr>\n",
       "      <th>5</th>\n",
       "      <td>i.d4b)xnddjv@lgc2m7.aplv.(g)</td>\n",
       "      <td>6</td>\n",
       "      <td>2.867152e-21</td>\n",
       "      <td>2.866673e-05</td>\n",
       "      <td>8.327653e-02</td>\n",
       "      <td>0.028665</td>\n",
       "      <td>0.771429</td>\n",
       "    </tr>\n",
       "    <tr>\n",
       "      <th>6</th>\n",
       "      <td>0752a187-45df-2881-acdf-2bf7fc73d7b2</td>\n",
       "      <td>1</td>\n",
       "      <td>2.795137e-24</td>\n",
       "      <td>2.793001e-09</td>\n",
       "      <td>1.218300e-05</td>\n",
       "      <td>0.000026</td>\n",
       "      <td>1.000000</td>\n",
       "    </tr>\n",
       "    <tr>\n",
       "      <th>7</th>\n",
       "      <td>684qll9dq_w@hotmail.com</td>\n",
       "      <td>2</td>\n",
       "      <td>1.193108e-34</td>\n",
       "      <td>1.192890e-07</td>\n",
       "      <td>1.987831e-04</td>\n",
       "      <td>0.000117</td>\n",
       "      <td>0.628571</td>\n",
       "    </tr>\n",
       "    <tr>\n",
       "      <th>8</th>\n",
       "      <td>01553262018</td>\n",
       "      <td>3</td>\n",
       "      <td>1.899974e-70</td>\n",
       "      <td>1.897501e-09</td>\n",
       "      <td>1.920001e-07</td>\n",
       "      <td>0.000017</td>\n",
       "      <td>0.285714</td>\n",
       "    </tr>\n",
       "    <tr>\n",
       "      <th>9</th>\n",
       "      <td>324.044.099-72</td>\n",
       "      <td>4</td>\n",
       "      <td>6.527760e-59</td>\n",
       "      <td>6.526652e-07</td>\n",
       "      <td>3.342301e-05</td>\n",
       "      <td>0.000063</td>\n",
       "      <td>0.371429</td>\n",
       "    </tr>\n",
       "    <tr>\n",
       "      <th>10</th>\n",
       "      <td>47928669468</td>\n",
       "      <td>5</td>\n",
       "      <td>8.717055e-68</td>\n",
       "      <td>8.715303e-08</td>\n",
       "      <td>8.670003e-07</td>\n",
       "      <td>0.000086</td>\n",
       "      <td>0.285714</td>\n",
       "    </tr>\n",
       "    <tr>\n",
       "      <th>11</th>\n",
       "      <td>kdkfii4ir50jp9)1rz2</td>\n",
       "      <td>6</td>\n",
       "      <td>3.171848e-47</td>\n",
       "      <td>3.171318e-05</td>\n",
       "      <td>4.254301e-05</td>\n",
       "      <td>0.003170</td>\n",
       "      <td>0.514286</td>\n",
       "    </tr>\n",
       "    <tr>\n",
       "      <th>12</th>\n",
       "      <td>6fcb6b7f-cf6f-10c4-9414-39101b5a131a</td>\n",
       "      <td>1</td>\n",
       "      <td>1.074377e-22</td>\n",
       "      <td>1.074197e-05</td>\n",
       "      <td>6.315002e-06</td>\n",
       "      <td>0.001073</td>\n",
       "      <td>1.000000</td>\n",
       "    </tr>\n",
       "    <tr>\n",
       "      <th>13</th>\n",
       "      <td>0o4.6um3bn3@live.com</td>\n",
       "      <td>2</td>\n",
       "      <td>1.882983e-43</td>\n",
       "      <td>1.882666e-06</td>\n",
       "      <td>1.987831e-04</td>\n",
       "      <td>0.000186</td>\n",
       "      <td>0.542857</td>\n",
       "    </tr>\n",
       "    <tr>\n",
       "      <th>14</th>\n",
       "      <td>63034647506</td>\n",
       "      <td>3</td>\n",
       "      <td>1.112373e-69</td>\n",
       "      <td>1.111950e-08</td>\n",
       "      <td>9.240003e-07</td>\n",
       "      <td>0.000110</td>\n",
       "      <td>0.285714</td>\n",
       "    </tr>\n",
       "    <tr>\n",
       "      <th>15</th>\n",
       "      <td>071.479.393-01</td>\n",
       "      <td>4</td>\n",
       "      <td>2.732131e-59</td>\n",
       "      <td>2.731651e-07</td>\n",
       "      <td>3.331651e-05</td>\n",
       "      <td>0.000026</td>\n",
       "      <td>0.371429</td>\n",
       "    </tr>\n",
       "    <tr>\n",
       "      <th>16</th>\n",
       "      <td>86911863508</td>\n",
       "      <td>5</td>\n",
       "      <td>1.456778e-68</td>\n",
       "      <td>1.456515e-07</td>\n",
       "      <td>9.270003e-07</td>\n",
       "      <td>0.000144</td>\n",
       "      <td>0.285714</td>\n",
       "    </tr>\n",
       "    <tr>\n",
       "      <th>17</th>\n",
       "      <td>ng2@j1c001c6rq.r6ot2209(fc5to4xq7o6l</td>\n",
       "      <td>6</td>\n",
       "      <td>3.626623e-20</td>\n",
       "      <td>3.626018e-05</td>\n",
       "      <td>3.858151e-05</td>\n",
       "      <td>0.003624</td>\n",
       "      <td>1.000000</td>\n",
       "    </tr>\n",
       "    <tr>\n",
       "      <th>18</th>\n",
       "      <td>4d373fc7-5ec9-370e-e132-d374adf89d3a</td>\n",
       "      <td>1</td>\n",
       "      <td>7.718554e-22</td>\n",
       "      <td>7.717053e-08</td>\n",
       "      <td>2.161501e-05</td>\n",
       "      <td>0.000770</td>\n",
       "      <td>1.000000</td>\n",
       "    </tr>\n",
       "    <tr>\n",
       "      <th>19</th>\n",
       "      <td>k206z56l99ow2_@zoho.com</td>\n",
       "      <td>2</td>\n",
       "      <td>3.198140e-38</td>\n",
       "      <td>3.197401e-08</td>\n",
       "      <td>1.987831e-04</td>\n",
       "      <td>0.000318</td>\n",
       "      <td>0.628571</td>\n",
       "    </tr>\n",
       "  </tbody>\n",
       "</table>\n",
       "</div>"
      ],
      "text/plain": [
       "                                   dados  tipos   dados_trans      iniciais  \\\n",
       "0   0c4c8258-8217-120d-df69-99c495d70e97      1  1.702994e-24  1.702681e-07   \n",
       "1                   uq9dcmdqw74@zoho.com      2  4.691437e-41  4.690654e-05   \n",
       "2                            73141152810      3  1.263995e-69  1.263600e-08   \n",
       "3                         132.412.737-68      4  3.647283e-61  3.646651e-07   \n",
       "4                            47901638453      5  8.716650e-69  8.715003e-08   \n",
       "5           i.d4b)xnddjv@lgc2m7.aplv.(g)      6  2.867152e-21  2.866673e-05   \n",
       "6   0752a187-45df-2881-acdf-2bf7fc73d7b2      1  2.795137e-24  2.793001e-09   \n",
       "7                684qll9dq_w@hotmail.com      2  1.193108e-34  1.192890e-07   \n",
       "8                            01553262018      3  1.899974e-70  1.897501e-09   \n",
       "9                         324.044.099-72      4  6.527760e-59  6.526652e-07   \n",
       "10                           47928669468      5  8.717055e-68  8.715303e-08   \n",
       "11                   kdkfii4ir50jp9)1rz2      6  3.171848e-47  3.171318e-05   \n",
       "12  6fcb6b7f-cf6f-10c4-9414-39101b5a131a      1  1.074377e-22  1.074197e-05   \n",
       "13                  0o4.6um3bn3@live.com      2  1.882983e-43  1.882666e-06   \n",
       "14                           63034647506      3  1.112373e-69  1.111950e-08   \n",
       "15                        071.479.393-01      4  2.732131e-59  2.731651e-07   \n",
       "16                           86911863508      5  1.456778e-68  1.456515e-07   \n",
       "17  ng2@j1c001c6rq.r6ot2209(fc5to4xq7o6l      6  3.626623e-20  3.626018e-05   \n",
       "18  4d373fc7-5ec9-370e-e132-d374adf89d3a      1  7.718554e-22  7.717053e-08   \n",
       "19               k206z56l99ow2_@zoho.com      2  3.198140e-38  3.197401e-08   \n",
       "\n",
       "          finais  2_primeiros   tamanho  \n",
       "0   2.266051e-05     0.000168  1.000000  \n",
       "1   1.987831e-04     0.004689  0.542857  \n",
       "2   1.380000e-06     0.000125  0.285714  \n",
       "3   3.341701e-05     0.000035  0.371429  \n",
       "4   8.445003e-07     0.000086  0.285714  \n",
       "5   8.327653e-02     0.028665  0.771429  \n",
       "6   1.218300e-05     0.000026  1.000000  \n",
       "7   1.987831e-04     0.000117  0.628571  \n",
       "8   1.920001e-07     0.000017  0.285714  \n",
       "9   3.342301e-05     0.000063  0.371429  \n",
       "10  8.670003e-07     0.000086  0.285714  \n",
       "11  4.254301e-05     0.003170  0.514286  \n",
       "12  6.315002e-06     0.001073  1.000000  \n",
       "13  1.987831e-04     0.000186  0.542857  \n",
       "14  9.240003e-07     0.000110  0.285714  \n",
       "15  3.331651e-05     0.000026  0.371429  \n",
       "16  9.270003e-07     0.000144  0.285714  \n",
       "17  3.858151e-05     0.003624  1.000000  \n",
       "18  2.161501e-05     0.000770  1.000000  \n",
       "19  1.987831e-04     0.000318  0.628571  "
      ]
     },
     "execution_count": 21,
     "metadata": {},
     "output_type": "execute_result"
    }
   ],
   "source": [
    "df_normalizado.head(20)"
   ]
  },
  {
   "cell_type": "markdown",
   "id": "717cfa84",
   "metadata": {},
   "source": [
    "# Dividindo dados"
   ]
  },
  {
   "cell_type": "code",
   "execution_count": 22,
   "id": "ef8cff05",
   "metadata": {},
   "outputs": [],
   "source": [
    "x = np.array(df_normalizado.drop(columns=['tipos', 'dados']))\n",
    "y = np.array(df_normalizado['tipos'])"
   ]
  },
  {
   "cell_type": "code",
   "execution_count": 23,
   "id": "ab9b6a9e",
   "metadata": {},
   "outputs": [],
   "source": [
    "x_train, x_test, y_train, y_test = train_test_split(x, y, test_size=0.2, shuffle=True)"
   ]
  },
  {
   "cell_type": "code",
   "execution_count": 24,
   "id": "37b62d49",
   "metadata": {},
   "outputs": [
    {
     "data": {
      "text/plain": [
       "array([[4.53130367e-36, 4.53054676e-05, 1.98783067e-04, 4.52851132e-03,\n",
       "        6.00000000e-01],\n",
       "       [9.91803193e-69, 9.91620331e-08, 6.82500229e-07, 9.75002438e-05,\n",
       "        2.85714286e-01],\n",
       "       [1.06532989e-66, 1.06515171e-05, 7.71000259e-07, 1.06350266e-03,\n",
       "        2.85714286e-01],\n",
       "       ...,\n",
       "       [2.66074967e-44, 2.66030339e-06, 1.98783067e-04, 2.64000660e-04,\n",
       "        4.85714286e-01],\n",
       "       [4.21587234e-60, 4.21516641e-06, 3.33300112e-05, 4.05001013e-05,\n",
       "        3.71428571e-01],\n",
       "       [1.33943929e-67, 1.33905045e-08, 1.72500058e-07, 1.32000330e-04,\n",
       "        2.85714286e-01]])"
      ]
     },
     "execution_count": 24,
     "metadata": {},
     "output_type": "execute_result"
    }
   ],
   "source": [
    "x_train"
   ]
  },
  {
   "cell_type": "markdown",
   "id": "2d02d18a",
   "metadata": {},
   "source": [
    "# Treinando modelo"
   ]
  },
  {
   "cell_type": "code",
   "execution_count": 25,
   "id": "f886a27a",
   "metadata": {},
   "outputs": [
    {
     "data": {
      "text/plain": [
       "RandomForestClassifier()"
      ]
     },
     "execution_count": 25,
     "metadata": {},
     "output_type": "execute_result"
    }
   ],
   "source": [
    "modelo.fit(x_train, y_train)"
   ]
  },
  {
   "cell_type": "markdown",
   "id": "8a386ae2",
   "metadata": {},
   "source": [
    "# Analisando modelo"
   ]
  },
  {
   "cell_type": "code",
   "execution_count": 26,
   "id": "8ff232c1",
   "metadata": {},
   "outputs": [],
   "source": [
    "previsto = modelo.predict(x_test)"
   ]
  },
  {
   "cell_type": "code",
   "execution_count": 27,
   "id": "e6716e5a",
   "metadata": {},
   "outputs": [
    {
     "data": {
      "text/plain": [
       "91.37166666666666"
      ]
     },
     "execution_count": 27,
     "metadata": {},
     "output_type": "execute_result"
    }
   ],
   "source": [
    "accuracy_score(previsto, y_test) * 100"
   ]
  },
  {
   "cell_type": "markdown",
   "id": "06c4848c",
   "metadata": {},
   "source": [
    "# Testando modelo"
   ]
  },
  {
   "cell_type": "code",
   "execution_count": 28,
   "id": "3b881905",
   "metadata": {},
   "outputs": [],
   "source": [
    "def modelar_dado(string, maximos, minimos):\n",
    "    df_test = pd.DataFrame({'dados': [string]})\n",
    "    ## Colunas de tradução dos dados\n",
    "    df_test['dados_trans'] = df_test['dados'].map(lambda x: float(x.translate(tabela)))\n",
    "    ## Colunas das iniciais traduzidas\n",
    "    df_test['iniciais'] = df_test['dados'].map(lambda x: x[0:4])\n",
    "    df_test['iniciais'] = df_test['iniciais'].map(lambda x: float(x.translate(tabela)))\n",
    "    ## colunas dos finais traduzidor\n",
    "    df_test['finais'] = df_test['dados'].map(lambda x: x[-3:])\n",
    "    df_test['finais'] = df_test['finais'].map(lambda x: float(x.translate(tabela)))\n",
    "    ## coluna dos dois primeiros\n",
    "    df_test['2_primeiros'] = df_test['dados'].map(lambda x: x[0:2])\n",
    "    df_test['2_primeiros'] = df_test['2_primeiros'].map(lambda x: float(x.translate(tabela)))\n",
    "    ## coluna tamanho\n",
    "    df_test['tamanho'] = df_test['dados'].map(lambda x: len(x))\n",
    "    ## normalizando\n",
    "    colunas = df_test.drop(columns = ['dados']).columns\n",
    "    for coluna in colunas:\n",
    "        df_test[coluna] = df_test[coluna].apply(lambda x: (x - minimos[coluna]) / (maximos[coluna] - minimos[coluna]))\n",
    "    return np.array(df_test.drop(columns=['dados']))"
   ]
  },
  {
   "cell_type": "code",
   "execution_count": 29,
   "id": "eb0928b0",
   "metadata": {},
   "outputs": [
    {
     "data": {
      "text/plain": [
       "{'pix': 1,\n",
       " 'email': 2,\n",
       " 'cpf_sem_pontuacao': 3,\n",
       " 'cpf_com_pontuacao': 4,\n",
       " 'numero_celular': 5,\n",
       " 'none': 6}"
      ]
     },
     "execution_count": 29,
     "metadata": {},
     "output_type": "execute_result"
    }
   ],
   "source": [
    "mapa"
   ]
  },
  {
   "cell_type": "code",
   "execution_count": 31,
   "id": "9d060510",
   "metadata": {
    "scrolled": true
   },
   "outputs": [
    {
     "name": "stdout",
     "output_type": "stream",
     "text": [
      "dado pagamento: 45zzf569-77zz-zz4e-ggfc-5705d24cdce2\n"
     ]
    },
    {
     "data": {
      "text/plain": [
       "array([1], dtype=int64)"
      ]
     },
     "execution_count": 31,
     "metadata": {},
     "output_type": "execute_result"
    }
   ],
   "source": [
    "string = input('dado pagamento: ')\n",
    "entrada = modelar_dado(string, maximos, minimos)\n",
    "modelo.predict(entrada)"
   ]
  },
  {
   "cell_type": "markdown",
   "id": "c7a95b5e",
   "metadata": {},
   "source": [
    "# Salvando Modelo"
   ]
  },
  {
   "cell_type": "code",
   "execution_count": 33,
   "id": "c2a25756",
   "metadata": {},
   "outputs": [],
   "source": [
    "import pickle"
   ]
  },
  {
   "cell_type": "code",
   "execution_count": 34,
   "id": "da4f6822",
   "metadata": {},
   "outputs": [],
   "source": [
    "with open('modelo/modelo.pkl', 'wb') as arquivo:\n",
    "    pickle.dump(modelo, arquivo)"
   ]
  }
 ],
 "metadata": {
  "kernelspec": {
   "display_name": "Python 3 (ipykernel)",
   "language": "python",
   "name": "python3"
  },
  "language_info": {
   "codemirror_mode": {
    "name": "ipython",
    "version": 3
   },
   "file_extension": ".py",
   "mimetype": "text/x-python",
   "name": "python",
   "nbconvert_exporter": "python",
   "pygments_lexer": "ipython3",
   "version": "3.9.13"
  }
 },
 "nbformat": 4,
 "nbformat_minor": 5
}
