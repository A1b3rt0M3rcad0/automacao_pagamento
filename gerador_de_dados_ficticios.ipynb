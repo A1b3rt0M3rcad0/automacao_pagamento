{
 "cells": [
  {
   "cell_type": "markdown",
   "id": "3dbaa06f",
   "metadata": {},
   "source": [
    "### GERADOR DE DADOS"
   ]
  },
  {
   "cell_type": "code",
   "execution_count": 1,
   "id": "ca7b2102",
   "metadata": {},
   "outputs": [],
   "source": [
    "import pandas as pd"
   ]
  },
  {
   "cell_type": "code",
   "execution_count": 2,
   "id": "c6c2352c",
   "metadata": {},
   "outputs": [],
   "source": [
    "def gerador_pix():\n",
    "    from random import randint\n",
    "    letras_numeros = 'abcdef' + '1234567890'\n",
    "    lista_organizada = [8, 4, 4, 4, 12]\n",
    "    chave_pix = ''\n",
    "    for num in lista_organizada:\n",
    "        chave = ''\n",
    "        if num != 12:\n",
    "            for _ in range(num):\n",
    "                numero = randint(0, len(letras_numeros)-1)\n",
    "                ln = letras_numeros[numero]\n",
    "                chave += ln\n",
    "            chave += '-'\n",
    "        else:\n",
    "            for _ in range(num):\n",
    "                numero = randint(0, len(letras_numeros)-1)\n",
    "                ln = letras_numeros[numero]\n",
    "                chave += ln\n",
    "        chave_pix += chave\n",
    "    return chave_pix"
   ]
  },
  {
   "cell_type": "code",
   "execution_count": 3,
   "id": "4826d0c6",
   "metadata": {},
   "outputs": [],
   "source": [
    "def gerador_email():\n",
    "    from random import randint\n",
    "    l_n_ce = 'abcdefghijklmnopqrstuvxywz' + '1234567890' + '_-.'\n",
    "    terminacoes_email = ['@gmail.com', \n",
    "                         '@hotmail.com', \n",
    "                         '@yahoo.com', \n",
    "                         '@outlook.com', \n",
    "                         '@icloud.com', \n",
    "                         '@live.com', \n",
    "                         '@aol.com', \n",
    "                         '@protonmail.com', \n",
    "                         '@gmx.com', \n",
    "                         '@yandex.com', \n",
    "                         '@mail.com', \n",
    "                         '@zoho.com']\n",
    "    \n",
    "    tamanho = list(range(5, 15))\n",
    "    email = ''\n",
    "    var = randint(min(tamanho), max(tamanho))\n",
    "    for _ in range(var):\n",
    "        indice = randint(0, len(l_n_ce) - 1)\n",
    "        caracter = l_n_ce[indice]\n",
    "        email += caracter\n",
    "    indice_terminacao = randint(0, len(terminacoes_email) - 1)\n",
    "    terminacao = terminacoes_email[indice_terminacao]\n",
    "    email += terminacao\n",
    "    return email"
   ]
  },
  {
   "cell_type": "code",
   "execution_count": 4,
   "id": "cd1eff66",
   "metadata": {},
   "outputs": [],
   "source": [
    "def gerador_numero_celular():\n",
    "    from random import choice\n",
    "    codigos_area_brasil = [\n",
    "    '11', '12', '13', '14', '15', '16', '17', '18', '19', # São Paulo e região\n",
    "    '21', '22', '24', # Rio de Janeiro e região\n",
    "    '27', '28', # Espírito Santo\n",
    "    '31', '32', '33', '34', '35', '37', '38', # Minas Gerais\n",
    "    '41', '42', '43', '44', '45', '46', # Paraná\n",
    "    '47', '48', '49', # Santa Catarina\n",
    "    '51', '53', '54', '55', # Rio Grande do Sul\n",
    "    '61', # Distrito Federal\n",
    "    '62', '64', # Goiás\n",
    "    '63', # Tocantins\n",
    "    '65', '66', # Mato Grosso\n",
    "    '67', # Mato Grosso do Sul\n",
    "    '68', # Acre\n",
    "    '69', # Rondônia\n",
    "    '71', '73', '74', '75', '77', # Bahia\n",
    "    '79', # Sergipe\n",
    "    '81', '87', # Pernambuco\n",
    "    '82', # Alagoas\n",
    "    '83', # Paraíba\n",
    "    '84', # Rio Grande do Norte\n",
    "    '85', '88', # Ceará\n",
    "    '86', '89', # Piauí\n",
    "]\n",
    "    numeros = '1234567890'\n",
    "    codigo = choice(codigos_area_brasil)\n",
    "    numero_celular = codigo + '9'\n",
    "    for _ in range(8):\n",
    "        num = choice(numeros)\n",
    "        numero_celular += num\n",
    "    return numero_celular"
   ]
  },
  {
   "cell_type": "code",
   "execution_count": 5,
   "id": "952e6467",
   "metadata": {},
   "outputs": [],
   "source": [
    "def gerar_cpf_pontuacao():\n",
    "    import random\n",
    "    cpf = [random.randint(0, 9) for x in range(9)]\n",
    "    # calcula o primeiro dígito verificador\n",
    "    soma = sum([i * val for i, val in enumerate(cpf[::-1], start=2)])\n",
    "    resto = (soma * 10) % 11\n",
    "    if resto == 10 or resto == 11:\n",
    "        resto = 0\n",
    "    cpf.append(resto)\n",
    "    # calcula o segundo dígito verificador\n",
    "    soma = sum([i * val for i, val in enumerate(cpf[::-1], start=2)])\n",
    "    resto = (soma * 10) % 11\n",
    "    if resto == 10 or resto == 11:\n",
    "        resto = 0\n",
    "    cpf.append(resto)\n",
    "    # converte a lista de inteiros em uma string de CPF formatada\n",
    "    cpf_str = \"\".join(map(str, cpf))\n",
    "    cpf_str = cpf_str[:3] + '.' + cpf_str[3:6] + '.' + cpf_str[6:9] + '-' + cpf_str[9:]\n",
    "    return cpf_str"
   ]
  },
  {
   "cell_type": "code",
   "execution_count": 6,
   "id": "799b5713",
   "metadata": {},
   "outputs": [],
   "source": [
    "def gerar_cpf_sem_pontuacao():\n",
    "    import random\n",
    "    cpf = [random.randint(0, 9) for x in range(9)]\n",
    "    # calcula o primeiro dígito verificador\n",
    "    soma = sum([i * val for i, val in enumerate(cpf[::-1], start=2)])\n",
    "    resto = (soma * 10) % 11\n",
    "    if resto == 10 or resto == 11:\n",
    "        resto = 0\n",
    "    cpf.append(resto)\n",
    "    # calcula o segundo dígito verificador\n",
    "    soma = sum([i * val for i, val in enumerate(cpf[::-1], start=2)])\n",
    "    resto = (soma * 10) % 11\n",
    "    if resto == 10 or resto == 11:\n",
    "        resto = 0\n",
    "    cpf.append(resto)\n",
    "    # converte a lista de inteiros em uma string de CPF formatada\n",
    "    cpf_str = \"\".join(map(str, cpf))\n",
    "    cpf_str = cpf_str[:3] + cpf_str[3:6] + cpf_str[6:9] + cpf_str[9:]\n",
    "    return cpf_str"
   ]
  },
  {
   "cell_type": "code",
   "execution_count": 7,
   "id": "3e54f3bb",
   "metadata": {},
   "outputs": [],
   "source": [
    "def gerar_dados_sem_informação():\n",
    "    from random import choice\n",
    "    from random import randint\n",
    "    l_n_ce = 'abcdefghijklmnopqrstuvxywz' + '1234567890' + '.-_@()'\n",
    "    tamanho = randint(1, 36)\n",
    "    dado = ''\n",
    "    for _ in range(tamanho):\n",
    "        caracter = choice(l_n_ce)\n",
    "        dado += caracter\n",
    "    return dado"
   ]
  },
  {
   "cell_type": "markdown",
   "id": "62a97a3f",
   "metadata": {},
   "source": [
    "### Agora vamos gerar nossa base de dados"
   ]
  },
  {
   "cell_type": "code",
   "execution_count": 8,
   "id": "75393ee8",
   "metadata": {},
   "outputs": [],
   "source": [
    "def gerar_dados(tamanho):\n",
    "    import pandas as pd\n",
    "    dados = list()\n",
    "    tipos = list()\n",
    "    for _ in range(tamanho):\n",
    "        pix = gerador_pix()\n",
    "        tipo_dado = 'pix'\n",
    "        dados.append(pix)\n",
    "        tipos.append(tipo_dado)\n",
    "        \n",
    "        email = gerador_email()\n",
    "        tipo_dado = 'email'\n",
    "        dados.append(email)\n",
    "        tipos.append(tipo_dado)\n",
    "        \n",
    "        cpf = gerar_cpf_sem_pontuacao()\n",
    "        tipo_dado = 'cpf_sem_pontuacao'\n",
    "        dados.append(cpf)\n",
    "        tipos.append(tipo_dado)\n",
    "        \n",
    "        cpf_pontuacao = gerar_cpf_pontuacao()\n",
    "        tipo_dado = 'cpf_com_pontuacao'\n",
    "        dados.append(cpf_pontuacao)\n",
    "        tipos.append(tipo_dado)\n",
    "        \n",
    "        numero_celular = gerador_numero_celular()\n",
    "        tipo_dado = 'numero_celular'\n",
    "        dados.append(numero_celular)\n",
    "        tipos.append(tipo_dado)\n",
    "        \n",
    "        dado_sem_informacao = gerar_dados_sem_informação()\n",
    "        tipo_dado = 'none'\n",
    "        dados.append(dado_sem_informacao)\n",
    "        tipos.append(tipo_dado)\n",
    "        \n",
    "        df = pd.DataFrame({'dados': dados, 'tipos': tipos})\n",
    "    return df"
   ]
  },
  {
   "cell_type": "markdown",
   "id": "6544a55d",
   "metadata": {},
   "source": [
    "## GERAR DADOS"
   ]
  },
  {
   "cell_type": "markdown",
   "id": "d1b89d7d",
   "metadata": {},
   "source": [
    "df = gerar_dados(50000)\n",
    "df.to_csv('DATASET/dados.csv', index=False)"
   ]
  },
  {
   "cell_type": "markdown",
   "id": "b0ee6643",
   "metadata": {},
   "source": [
    "df"
   ]
  }
 ],
 "metadata": {
  "kernelspec": {
   "display_name": "Python 3 (ipykernel)",
   "language": "python",
   "name": "python3"
  },
  "language_info": {
   "codemirror_mode": {
    "name": "ipython",
    "version": 3
   },
   "file_extension": ".py",
   "mimetype": "text/x-python",
   "name": "python",
   "nbconvert_exporter": "python",
   "pygments_lexer": "ipython3",
   "version": "3.9.13"
  }
 },
 "nbformat": 4,
 "nbformat_minor": 5
}
